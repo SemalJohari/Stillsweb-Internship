{
  "nbformat": 4,
  "nbformat_minor": 0,
  "metadata": {
    "colab": {
      "provenance": []
    },
    "kernelspec": {
      "name": "python3",
      "display_name": "Python 3"
    },
    "language_info": {
      "name": "python"
    }
  },
  "cells": [
    {
      "cell_type": "code",
      "execution_count": null,
      "metadata": {
        "id": "vpWm7N8mNeeq",
        "colab": {
          "base_uri": "https://localhost:8080/"
        },
        "outputId": "3f8e96ce-f787-4c6a-9c63-e72e6b0d97ba"
      },
      "outputs": [
        {
          "output_type": "stream",
          "name": "stdout",
          "text": [
            "{'status': 'created', 'task_id': '786b029c-3cb6-467a-a1e6-feff8fd83dd6', 'req_id': 'a47a8169-63aa-4aaf-ac56-066145323a56', 'task_timeout': 345600}\n",
            "{'client_id': 1607408, 'download_id': 1607408, 'token': 1607408, 'task_type': 'error', 'reference': 'ref_20200924-00-00', 'task_id': '786b029c-3cb6-467a-a1e6-feff8fd83dd6', 'type': 'mt_stats', 'hash_id': None, 'result_url': None, 'channel': None, 'req_id': None, 'result': None, 'success': None, 'png': None, 'error_message': {'error': \"Invalid request in params: Additional properties are not allowed ('max_cloud_cover_in_AOI' was unexpected)\"}}\n"
          ]
        }
      ],
      "source": [
        "import time\n",
        "import requests\n",
        "\n",
        "api_key = \"apk.c96bba2ab67b4394016c7499e0a66600862c1a59c1185ef709fc6c7c541beac2\"\n",
        "url = f\"https://api-connect.eos.com/api/gdw/api?api_key={api_key}\"\n",
        "\n",
        "RATE_LIMIT = 10\n",
        "MINUTE_IN_SECONDS = 60\n",
        "payload = {\n",
        "    \"type\": \"mt_stats\",\n",
        "    \"params\":\n",
        "        {\n",
        "            \"bm_type\": [\"NDVI\", \"MSI\", \"EVI\"],\n",
        "            \"date_start\": \"2024-01-01\",\n",
        "            \"date_end\": \"2024-01-30\",\n",
        "            \"geometry\":\n",
        "                {\n",
        "                    \"coordinates\":\n",
        "                        [[\n",
        "                            [77.48711792311, 28.5753746671189],\n",
        "                            [77.487384802907, 28.5756620359534],\n",
        "                            [77.487474656909, 28.575570172231],\n",
        "                            [77.487215823739, 28.575301647044],\n",
        "                            [77.48711792311, 28.5753746671189]\n",
        "                        ]],\n",
        "                    \"type\": \"Polygon\"\n",
        "                },\n",
        "            \"reference\": \"ref_20200924-00-00\",\n",
        "            \"max_cloud_cover_in_AOI\": 10,\n",
        "            \"sensors\": [\"sentinel2\"],\n",
        "            \"limit\": 10\n",
        "        }\n",
        "}\n",
        "headers = {\n",
        "    'Content-Type': 'application/json'\n",
        "}\n",
        "\n",
        "response = requests.request(\"POST\", url, headers=headers, json=payload)\n",
        "time.sleep(MINUTE_IN_SECONDS / RATE_LIMIT)\n",
        "data = response.json()\n",
        "task_id = data['task_id']\n",
        "print(data)\n",
        "task_status_url = f\"https://api-connect.eos.com/api/gdw/api/{task_id}?api_key={api_key}\"\n",
        "task_response = requests.request(\"GET\", task_status_url, headers=headers, json=payload)\n",
        "task_data = task_response.json()\n",
        "print(task_data)\n",
        "\n",
        "#results = task_data['result']\n",
        "#print(results)\n",
        "#errors = task_data['errors']\n",
        "#print(errors)"
      ]
    },
    {
      "cell_type": "code",
      "source": [
        "import requests\n",
        "import json\n",
        "\n",
        "url = \"https://services.sentinel-hub.com/api/v1/process\"\n",
        "headers = {\n",
        "    \"Content-Type\": \"application/json\",\n",
        "    \"Authorization\": \"Bearer <your-access-token>\"  # Replace with your access token\n",
        "}\n",
        "\n",
        "payload = {\n",
        "    \"input\": {\n",
        "        \"bounds\": {\n",
        "            \"bbox\": [13.822174072265625, 45.85080395917834, 13.828353881835938, 45.854201310382374],\n",
        "            \"properties\": {\n",
        "                \"crs\": \"http://www.opengis.net/def/crs/EPSG/0/4326\"\n",
        "            }\n",
        "        },\n",
        "        \"data\": [\n",
        "            {\n",
        "                \"type\": \"sentinel-2-l1c\",\n",
        "                \"dataFilter\": {\n",
        "                    \"timeRange\": {\n",
        "                        \"from\": \"2023-06-01T00:00:00Z\",\n",
        "                        \"to\": \"2023-06-30T23:59:59Z\"\n",
        "                    }\n",
        "                }\n",
        "            }\n",
        "        ]\n",
        "    },\n",
        "    \"output\": {\n",
        "        \"width\": 512,\n",
        "        \"height\": 512,\n",
        "        \"responses\": [\n",
        "            {\n",
        "                \"identifier\": \"default\",\n",
        "                \"format\": {\n",
        "                    \"type\": \"application/json\"\n",
        "                }\n",
        "            }\n",
        "        ]\n",
        "    },\n",
        "    \"evalscript\": \"//VERSION=3\\nfunction setup() {\\n  return {\\n    input: [\\\"B04\\\", \\\"B08\\\"],\\n    output: { bands: 1 }\\n  };\\n}\\n\\nfunction evaluatePixel(sample) {\\n  let ndvi = (sample.B08 - sample.B04) / (sample.B08 + sample.B04);\\n  return [ndvi];\\n}\"\n",
        "}\n",
        "\n",
        "response = requests.post(url, headers=headers, data=json.dumps(payload))\n",
        "\n",
        "if response.status_code == 200:\n",
        "    data = response.json()\n",
        "    print(\"NDVI Data:\", data)\n",
        "else:\n",
        "    print(\"Error:\", response.status_code, response.text)"
      ],
      "metadata": {
        "id": "y1J_xF3EOK6x",
        "colab": {
          "base_uri": "https://localhost:8080/"
        },
        "outputId": "ba6fd586-6d35-4aaf-fdae-9d74e738c898"
      },
      "execution_count": null,
      "outputs": [
        {
          "output_type": "execute_result",
          "data": {
            "text/plain": [
              "<Response [422]>"
            ]
          },
          "metadata": {},
          "execution_count": 29
        }
      ]
    }
  ]
}